{
 "cells": [
  {
   "cell_type": "markdown",
   "metadata": {},
   "source": [
    "# Importing Necessary Libraries"
   ]
  },
  {
   "cell_type": "code",
   "execution_count": 5,
   "metadata": {},
   "outputs": [],
   "source": [
    "# OS and Warning files\n",
    "import os\n",
    "os.environ['KMP_DUPLICATE_LIB_OK']='True'\n",
    "import warnings\n",
    "warnings.filterwarnings(\"ignore\")\n",
    "\n",
    "# Analysis Libraries\n",
    "import pandas as pd\n",
    "import numpy as np\n",
    "import xgboost\n",
    "from sklearn import metrics\n",
    "from sklearn import preprocessing\n",
    "from sklearn import model_selection\n",
    "from sklearn.model_selection import train_test_split\n",
    "from sklearn import svm, tree, ensemble, neighbors, linear_model\n",
    "from sklearn.metrics import accuracy_score, mean_squared_error, roc_curve, roc_auc_score, make_scorer\n",
    "from sklearn.model_selection import StratifiedKFold\n",
    "from sklearn.feature_selection import RFECV\n",
    "\n",
    "# Visualization Library\n",
    "import matplotlib.pyplot as plt\n",
    "from matplotlib.ticker import FuncFormatter\n",
    "import seaborn as sns\n",
    "import plotly\n",
    "import plotly.plotly as py\n",
    "import plotly.graph_objs as go\n",
    "from sklearn.externals.six import StringIO  \n",
    "from IPython.display import Image  \n",
    "from sklearn.tree import export_graphviz\n",
    "import pydotplus\n",
    "\n",
    "%matplotlib inline"
   ]
  },
  {
   "cell_type": "code",
   "execution_count": 8,
   "metadata": {},
   "outputs": [],
   "source": [
    "# plotly.tools.set_credentials_file(username='neelrast', api_key='tH7Ty1sAOwl8O3JnfLmf')"
   ]
  },
  {
   "cell_type": "markdown",
   "metadata": {},
   "source": [
    "# Import RL Data"
   ]
  },
  {
   "cell_type": "code",
   "execution_count": 9,
   "metadata": {},
   "outputs": [
    {
     "data": {
      "text/html": [
       "<div>\n",
       "<style scoped>\n",
       "    .dataframe tbody tr th:only-of-type {\n",
       "        vertical-align: middle;\n",
       "    }\n",
       "\n",
       "    .dataframe tbody tr th {\n",
       "        vertical-align: top;\n",
       "    }\n",
       "\n",
       "    .dataframe thead th {\n",
       "        text-align: right;\n",
       "    }\n",
       "</style>\n",
       "<table border=\"1\" class=\"dataframe\">\n",
       "  <thead>\n",
       "    <tr style=\"text-align: right;\">\n",
       "      <th></th>\n",
       "      <th>storm_names</th>\n",
       "      <th>eff_land_sp</th>\n",
       "      <th>direct</th>\n",
       "      <th>angled</th>\n",
       "      <th>cross</th>\n",
       "      <th>press_mbars</th>\n",
       "      <th>max_sust_winds_kts</th>\n",
       "      <th>storm_surge</th>\n",
       "      <th>storm_tide</th>\n",
       "      <th>moon_phase</th>\n",
       "      <th>low_neap</th>\n",
       "      <th>high_neap</th>\n",
       "      <th>high_ebb</th>\n",
       "      <th>high_tide_line</th>\n",
       "      <th>low_tide_line</th>\n",
       "      <th>norm_cost</th>\n",
       "      <th>cost_category</th>\n",
       "    </tr>\n",
       "  </thead>\n",
       "  <tbody>\n",
       "    <tr>\n",
       "      <th>0</th>\n",
       "      <td>Bob</td>\n",
       "      <td>15.005262</td>\n",
       "      <td>0</td>\n",
       "      <td>1</td>\n",
       "      <td>0</td>\n",
       "      <td>1003</td>\n",
       "      <td>65</td>\n",
       "      <td>0.0</td>\n",
       "      <td>0.0</td>\n",
       "      <td>7</td>\n",
       "      <td>0</td>\n",
       "      <td>1</td>\n",
       "      <td>0</td>\n",
       "      <td>7.5</td>\n",
       "      <td>-0.6</td>\n",
       "      <td>5.963532e+05</td>\n",
       "      <td>moderate</td>\n",
       "    </tr>\n",
       "    <tr>\n",
       "      <th>1</th>\n",
       "      <td>Danny</td>\n",
       "      <td>12.080622</td>\n",
       "      <td>1</td>\n",
       "      <td>0</td>\n",
       "      <td>0</td>\n",
       "      <td>987</td>\n",
       "      <td>80</td>\n",
       "      <td>0.0</td>\n",
       "      <td>8.0</td>\n",
       "      <td>27</td>\n",
       "      <td>0</td>\n",
       "      <td>0</td>\n",
       "      <td>0</td>\n",
       "      <td>1.9</td>\n",
       "      <td>-0.4</td>\n",
       "      <td>1.250277e+06</td>\n",
       "      <td>high</td>\n",
       "    </tr>\n",
       "    <tr>\n",
       "      <th>2</th>\n",
       "      <td>Elena</td>\n",
       "      <td>19.448238</td>\n",
       "      <td>0</td>\n",
       "      <td>1</td>\n",
       "      <td>0</td>\n",
       "      <td>959</td>\n",
       "      <td>100</td>\n",
       "      <td>10.0</td>\n",
       "      <td>0.0</td>\n",
       "      <td>16</td>\n",
       "      <td>0</td>\n",
       "      <td>1</td>\n",
       "      <td>0</td>\n",
       "      <td>1.4</td>\n",
       "      <td>1.0</td>\n",
       "      <td>3.320953e+07</td>\n",
       "      <td>severe</td>\n",
       "    </tr>\n",
       "    <tr>\n",
       "      <th>3</th>\n",
       "      <td>Gloria</td>\n",
       "      <td>31.092933</td>\n",
       "      <td>0</td>\n",
       "      <td>0</td>\n",
       "      <td>0</td>\n",
       "      <td>942</td>\n",
       "      <td>90</td>\n",
       "      <td>0.0</td>\n",
       "      <td>0.0</td>\n",
       "      <td>12</td>\n",
       "      <td>1</td>\n",
       "      <td>0</td>\n",
       "      <td>0</td>\n",
       "      <td>1.3</td>\n",
       "      <td>0.3</td>\n",
       "      <td>0.000000e+00</td>\n",
       "      <td>minimal</td>\n",
       "    </tr>\n",
       "    <tr>\n",
       "      <th>4</th>\n",
       "      <td>Gloria</td>\n",
       "      <td>45.238814</td>\n",
       "      <td>0</td>\n",
       "      <td>1</td>\n",
       "      <td>0</td>\n",
       "      <td>961</td>\n",
       "      <td>75</td>\n",
       "      <td>0.0</td>\n",
       "      <td>0.0</td>\n",
       "      <td>12</td>\n",
       "      <td>0</td>\n",
       "      <td>0</td>\n",
       "      <td>0</td>\n",
       "      <td>3.0</td>\n",
       "      <td>0.2</td>\n",
       "      <td>0.000000e+00</td>\n",
       "      <td>minimal</td>\n",
       "    </tr>\n",
       "  </tbody>\n",
       "</table>\n",
       "</div>"
      ],
      "text/plain": [
       "  storm_names  eff_land_sp  direct  angled  cross  press_mbars  \\\n",
       "0         Bob    15.005262       0       1      0         1003   \n",
       "1       Danny    12.080622       1       0      0          987   \n",
       "2       Elena    19.448238       0       1      0          959   \n",
       "3      Gloria    31.092933       0       0      0          942   \n",
       "4      Gloria    45.238814       0       1      0          961   \n",
       "\n",
       "   max_sust_winds_kts  storm_surge  storm_tide  moon_phase  low_neap  \\\n",
       "0                  65          0.0         0.0           7         0   \n",
       "1                  80          0.0         8.0          27         0   \n",
       "2                 100         10.0         0.0          16         0   \n",
       "3                  90          0.0         0.0          12         1   \n",
       "4                  75          0.0         0.0          12         0   \n",
       "\n",
       "   high_neap  high_ebb  high_tide_line  low_tide_line     norm_cost  \\\n",
       "0          1         0             7.5           -0.6  5.963532e+05   \n",
       "1          0         0             1.9           -0.4  1.250277e+06   \n",
       "2          1         0             1.4            1.0  3.320953e+07   \n",
       "3          0         0             1.3            0.3  0.000000e+00   \n",
       "4          0         0             3.0            0.2  0.000000e+00   \n",
       "\n",
       "  cost_category  \n",
       "0      moderate  \n",
       "1          high  \n",
       "2        severe  \n",
       "3       minimal  \n",
       "4       minimal  "
      ]
     },
     "execution_count": 9,
     "metadata": {},
     "output_type": "execute_result"
    }
   ],
   "source": [
    "# Loading RL Features Dataset\n",
    "storm_rl_df = pd.read_csv(\"../data/storm_rl_norm.csv\")\n",
    "storm_rl_df[\"cost_category\"] = storm_rl_df[\"cost_category\"].astype('category')\n",
    "storm_rl_df.head()"
   ]
  },
  {
   "cell_type": "code",
   "execution_count": 10,
   "metadata": {},
   "outputs": [
    {
     "name": "stdout",
     "output_type": "stream",
     "text": [
      "<class 'pandas.core.frame.DataFrame'>\n",
      "RangeIndex: 115 entries, 0 to 114\n",
      "Data columns (total 17 columns):\n",
      "storm_names           115 non-null object\n",
      "eff_land_sp           115 non-null float64\n",
      "direct                115 non-null int64\n",
      "angled                115 non-null int64\n",
      "cross                 115 non-null int64\n",
      "press_mbars           115 non-null int64\n",
      "max_sust_winds_kts    115 non-null int64\n",
      "storm_surge           115 non-null float64\n",
      "storm_tide            115 non-null float64\n",
      "moon_phase            115 non-null int64\n",
      "low_neap              115 non-null int64\n",
      "high_neap             115 non-null int64\n",
      "high_ebb              115 non-null int64\n",
      "high_tide_line        115 non-null float64\n",
      "low_tide_line         115 non-null float64\n",
      "norm_cost             115 non-null float64\n",
      "cost_category         115 non-null category\n",
      "dtypes: category(1), float64(6), int64(9), object(1)\n",
      "memory usage: 14.8+ KB\n"
     ]
    }
   ],
   "source": [
    "storm_rl_df.info()"
   ]
  },
  {
   "cell_type": "code",
   "execution_count": 11,
   "metadata": {},
   "outputs": [],
   "source": [
    "storm_rl_df[\"moon_phase\"] = abs(abs(storm_rl_df.moon_phase - 14)-7)"
   ]
  },
  {
   "cell_type": "code",
   "execution_count": 12,
   "metadata": {},
   "outputs": [
    {
     "data": {
      "text/plain": [
       "[moderate, high, severe, minimal, low, catastrophic]\n",
       "Categories (6, object): [moderate, high, severe, minimal, low, catastrophic]"
      ]
     },
     "execution_count": 12,
     "metadata": {},
     "output_type": "execute_result"
    }
   ],
   "source": [
    "storm_rl_df[\"cost_category\"].unique()"
   ]
  },
  {
   "cell_type": "code",
   "execution_count": 13,
   "metadata": {},
   "outputs": [],
   "source": [
    "cateogry_types = ['low', 'minimal', 'moderate', 'high', 'severe',  'catastrophic']\n",
    "\n",
    "storm_rl_df[\"cost_category_num\"] = storm_rl_df.cost_category.astype(\"category\", categories=cateogry_types).cat.codes"
   ]
  },
  {
   "cell_type": "code",
   "execution_count": 14,
   "metadata": {},
   "outputs": [
    {
     "data": {
      "text/html": [
       "<div>\n",
       "<style scoped>\n",
       "    .dataframe tbody tr th:only-of-type {\n",
       "        vertical-align: middle;\n",
       "    }\n",
       "\n",
       "    .dataframe tbody tr th {\n",
       "        vertical-align: top;\n",
       "    }\n",
       "\n",
       "    .dataframe thead th {\n",
       "        text-align: right;\n",
       "    }\n",
       "</style>\n",
       "<table border=\"1\" class=\"dataframe\">\n",
       "  <thead>\n",
       "    <tr style=\"text-align: right;\">\n",
       "      <th></th>\n",
       "      <th>storm_names</th>\n",
       "      <th>year</th>\n",
       "      <th>month</th>\n",
       "      <th>day</th>\n",
       "      <th>Max Radii</th>\n",
       "      <th>Point Maxima</th>\n",
       "    </tr>\n",
       "  </thead>\n",
       "  <tbody>\n",
       "    <tr>\n",
       "      <th>0</th>\n",
       "      <td>Bob</td>\n",
       "      <td>1985</td>\n",
       "      <td>7</td>\n",
       "      <td>25</td>\n",
       "      <td>NaN</td>\n",
       "      <td>21.50</td>\n",
       "    </tr>\n",
       "    <tr>\n",
       "      <th>1</th>\n",
       "      <td>Danny</td>\n",
       "      <td>1985</td>\n",
       "      <td>8</td>\n",
       "      <td>15</td>\n",
       "      <td>NaN</td>\n",
       "      <td>9.80</td>\n",
       "    </tr>\n",
       "    <tr>\n",
       "      <th>2</th>\n",
       "      <td>Elena</td>\n",
       "      <td>1985</td>\n",
       "      <td>9</td>\n",
       "      <td>2</td>\n",
       "      <td>NaN</td>\n",
       "      <td>15.67</td>\n",
       "    </tr>\n",
       "    <tr>\n",
       "      <th>3</th>\n",
       "      <td>Gloria</td>\n",
       "      <td>1985</td>\n",
       "      <td>9</td>\n",
       "      <td>27</td>\n",
       "      <td>NaN</td>\n",
       "      <td>9.70</td>\n",
       "    </tr>\n",
       "    <tr>\n",
       "      <th>4</th>\n",
       "      <td>Gloria</td>\n",
       "      <td>1985</td>\n",
       "      <td>9</td>\n",
       "      <td>27</td>\n",
       "      <td>NaN</td>\n",
       "      <td>9.70</td>\n",
       "    </tr>\n",
       "  </tbody>\n",
       "</table>\n",
       "</div>"
      ],
      "text/plain": [
       "  storm_names  year  month  day  Max Radii  Point Maxima\n",
       "0         Bob  1985      7   25        NaN         21.50\n",
       "1       Danny  1985      8   15        NaN          9.80\n",
       "2       Elena  1985      9    2        NaN         15.67\n",
       "3      Gloria  1985      9   27        NaN          9.70\n",
       "4      Gloria  1985      9   27        NaN          9.70"
      ]
     },
     "execution_count": 14,
     "metadata": {},
     "output_type": "execute_result"
    }
   ],
   "source": [
    "#Loading winds and rain data\n",
    "winds_rain = pd.read_csv(\"../data/wind_rain.csv\")\n",
    "winds_rain = winds_rain.drop(columns={\"Rain Rate\"})\n",
    "winds_rain.head()"
   ]
  },
  {
   "cell_type": "code",
   "execution_count": 15,
   "metadata": {},
   "outputs": [
    {
     "name": "stdout",
     "output_type": "stream",
     "text": [
      "<class 'pandas.core.frame.DataFrame'>\n",
      "RangeIndex: 115 entries, 0 to 114\n",
      "Data columns (total 6 columns):\n",
      "storm_names     115 non-null object\n",
      "year            115 non-null int64\n",
      "month           115 non-null int64\n",
      "day             115 non-null int64\n",
      "Max Radii       104 non-null float64\n",
      "Point Maxima    115 non-null float64\n",
      "dtypes: float64(2), int64(3), object(1)\n",
      "memory usage: 5.5+ KB\n"
     ]
    }
   ],
   "source": [
    "winds_rain.info()"
   ]
  },
  {
   "cell_type": "code",
   "execution_count": 16,
   "metadata": {
    "scrolled": false
   },
   "outputs": [],
   "source": [
    "winds_rain = winds_rain.fillna(0)"
   ]
  },
  {
   "cell_type": "code",
   "execution_count": 17,
   "metadata": {},
   "outputs": [],
   "source": [
    "storm_rl_df[\"year\"] = winds_rain.year\n",
    "storm_rl_df[\"month\"] = winds_rain.month\n",
    "storm_rl_df[\"day\"] = winds_rain.day\n",
    "storm_rl_df[\"Max Radii\"] = winds_rain[\"Max Radii\"]\n",
    "storm_rl_df[\"Point Maxima\"] = winds_rain[\"Point Maxima\"]"
   ]
  },
  {
   "cell_type": "code",
   "execution_count": 18,
   "metadata": {},
   "outputs": [
    {
     "name": "stdout",
     "output_type": "stream",
     "text": [
      "<class 'pandas.core.frame.DataFrame'>\n",
      "RangeIndex: 115 entries, 0 to 114\n",
      "Data columns (total 23 columns):\n",
      "storm_names           115 non-null object\n",
      "eff_land_sp           115 non-null float64\n",
      "direct                115 non-null int64\n",
      "angled                115 non-null int64\n",
      "cross                 115 non-null int64\n",
      "press_mbars           115 non-null int64\n",
      "max_sust_winds_kts    115 non-null int64\n",
      "storm_surge           115 non-null float64\n",
      "storm_tide            115 non-null float64\n",
      "moon_phase            115 non-null int64\n",
      "low_neap              115 non-null int64\n",
      "high_neap             115 non-null int64\n",
      "high_ebb              115 non-null int64\n",
      "high_tide_line        115 non-null float64\n",
      "low_tide_line         115 non-null float64\n",
      "norm_cost             115 non-null float64\n",
      "cost_category         115 non-null category\n",
      "cost_category_num     115 non-null int8\n",
      "year                  115 non-null int64\n",
      "month                 115 non-null int64\n",
      "day                   115 non-null int64\n",
      "Max Radii             115 non-null float64\n",
      "Point Maxima          115 non-null float64\n",
      "dtypes: category(1), float64(8), int64(12), int8(1), object(1)\n",
      "memory usage: 19.4+ KB\n"
     ]
    }
   ],
   "source": [
    "storm_rl_df.info()"
   ]
  },
  {
   "cell_type": "markdown",
   "metadata": {},
   "source": [
    "## Data Exploration"
   ]
  },
  {
   "cell_type": "code",
   "execution_count": 19,
   "metadata": {},
   "outputs": [
    {
     "data": {
      "text/html": [
       "<div>\n",
       "<style scoped>\n",
       "    .dataframe tbody tr th:only-of-type {\n",
       "        vertical-align: middle;\n",
       "    }\n",
       "\n",
       "    .dataframe tbody tr th {\n",
       "        vertical-align: top;\n",
       "    }\n",
       "\n",
       "    .dataframe thead th {\n",
       "        text-align: right;\n",
       "    }\n",
       "</style>\n",
       "<table border=\"1\" class=\"dataframe\">\n",
       "  <thead>\n",
       "    <tr style=\"text-align: right;\">\n",
       "      <th></th>\n",
       "      <th>storm_names</th>\n",
       "      <th>eff_land_sp</th>\n",
       "      <th>direct</th>\n",
       "      <th>angled</th>\n",
       "      <th>cross</th>\n",
       "      <th>press_mbars</th>\n",
       "      <th>max_sust_winds_kts</th>\n",
       "      <th>storm_surge</th>\n",
       "      <th>storm_tide</th>\n",
       "      <th>moon_phase</th>\n",
       "      <th>...</th>\n",
       "      <th>high_ebb</th>\n",
       "      <th>high_tide_line</th>\n",
       "      <th>low_tide_line</th>\n",
       "      <th>norm_cost</th>\n",
       "      <th>cost_category_num</th>\n",
       "      <th>year</th>\n",
       "      <th>month</th>\n",
       "      <th>day</th>\n",
       "      <th>Max Radii</th>\n",
       "      <th>Point Maxima</th>\n",
       "    </tr>\n",
       "    <tr>\n",
       "      <th>cost_category</th>\n",
       "      <th></th>\n",
       "      <th></th>\n",
       "      <th></th>\n",
       "      <th></th>\n",
       "      <th></th>\n",
       "      <th></th>\n",
       "      <th></th>\n",
       "      <th></th>\n",
       "      <th></th>\n",
       "      <th></th>\n",
       "      <th></th>\n",
       "      <th></th>\n",
       "      <th></th>\n",
       "      <th></th>\n",
       "      <th></th>\n",
       "      <th></th>\n",
       "      <th></th>\n",
       "      <th></th>\n",
       "      <th></th>\n",
       "      <th></th>\n",
       "      <th></th>\n",
       "    </tr>\n",
       "  </thead>\n",
       "  <tbody>\n",
       "    <tr>\n",
       "      <th>catastrophic</th>\n",
       "      <td>17</td>\n",
       "      <td>17</td>\n",
       "      <td>17</td>\n",
       "      <td>17</td>\n",
       "      <td>17</td>\n",
       "      <td>17</td>\n",
       "      <td>17</td>\n",
       "      <td>17</td>\n",
       "      <td>17</td>\n",
       "      <td>17</td>\n",
       "      <td>...</td>\n",
       "      <td>17</td>\n",
       "      <td>17</td>\n",
       "      <td>17</td>\n",
       "      <td>17</td>\n",
       "      <td>17</td>\n",
       "      <td>17</td>\n",
       "      <td>17</td>\n",
       "      <td>17</td>\n",
       "      <td>17</td>\n",
       "      <td>17</td>\n",
       "    </tr>\n",
       "    <tr>\n",
       "      <th>high</th>\n",
       "      <td>19</td>\n",
       "      <td>19</td>\n",
       "      <td>19</td>\n",
       "      <td>19</td>\n",
       "      <td>19</td>\n",
       "      <td>19</td>\n",
       "      <td>19</td>\n",
       "      <td>19</td>\n",
       "      <td>19</td>\n",
       "      <td>19</td>\n",
       "      <td>...</td>\n",
       "      <td>19</td>\n",
       "      <td>19</td>\n",
       "      <td>19</td>\n",
       "      <td>19</td>\n",
       "      <td>19</td>\n",
       "      <td>19</td>\n",
       "      <td>19</td>\n",
       "      <td>19</td>\n",
       "      <td>19</td>\n",
       "      <td>19</td>\n",
       "    </tr>\n",
       "    <tr>\n",
       "      <th>low</th>\n",
       "      <td>6</td>\n",
       "      <td>6</td>\n",
       "      <td>6</td>\n",
       "      <td>6</td>\n",
       "      <td>6</td>\n",
       "      <td>6</td>\n",
       "      <td>6</td>\n",
       "      <td>6</td>\n",
       "      <td>6</td>\n",
       "      <td>6</td>\n",
       "      <td>...</td>\n",
       "      <td>6</td>\n",
       "      <td>6</td>\n",
       "      <td>6</td>\n",
       "      <td>6</td>\n",
       "      <td>6</td>\n",
       "      <td>6</td>\n",
       "      <td>6</td>\n",
       "      <td>6</td>\n",
       "      <td>6</td>\n",
       "      <td>6</td>\n",
       "    </tr>\n",
       "    <tr>\n",
       "      <th>minimal</th>\n",
       "      <td>48</td>\n",
       "      <td>48</td>\n",
       "      <td>48</td>\n",
       "      <td>48</td>\n",
       "      <td>48</td>\n",
       "      <td>48</td>\n",
       "      <td>48</td>\n",
       "      <td>48</td>\n",
       "      <td>48</td>\n",
       "      <td>48</td>\n",
       "      <td>...</td>\n",
       "      <td>48</td>\n",
       "      <td>48</td>\n",
       "      <td>48</td>\n",
       "      <td>48</td>\n",
       "      <td>48</td>\n",
       "      <td>48</td>\n",
       "      <td>48</td>\n",
       "      <td>48</td>\n",
       "      <td>48</td>\n",
       "      <td>48</td>\n",
       "    </tr>\n",
       "    <tr>\n",
       "      <th>moderate</th>\n",
       "      <td>8</td>\n",
       "      <td>8</td>\n",
       "      <td>8</td>\n",
       "      <td>8</td>\n",
       "      <td>8</td>\n",
       "      <td>8</td>\n",
       "      <td>8</td>\n",
       "      <td>8</td>\n",
       "      <td>8</td>\n",
       "      <td>8</td>\n",
       "      <td>...</td>\n",
       "      <td>8</td>\n",
       "      <td>8</td>\n",
       "      <td>8</td>\n",
       "      <td>8</td>\n",
       "      <td>8</td>\n",
       "      <td>8</td>\n",
       "      <td>8</td>\n",
       "      <td>8</td>\n",
       "      <td>8</td>\n",
       "      <td>8</td>\n",
       "    </tr>\n",
       "    <tr>\n",
       "      <th>severe</th>\n",
       "      <td>17</td>\n",
       "      <td>17</td>\n",
       "      <td>17</td>\n",
       "      <td>17</td>\n",
       "      <td>17</td>\n",
       "      <td>17</td>\n",
       "      <td>17</td>\n",
       "      <td>17</td>\n",
       "      <td>17</td>\n",
       "      <td>17</td>\n",
       "      <td>...</td>\n",
       "      <td>17</td>\n",
       "      <td>17</td>\n",
       "      <td>17</td>\n",
       "      <td>17</td>\n",
       "      <td>17</td>\n",
       "      <td>17</td>\n",
       "      <td>17</td>\n",
       "      <td>17</td>\n",
       "      <td>17</td>\n",
       "      <td>17</td>\n",
       "    </tr>\n",
       "  </tbody>\n",
       "</table>\n",
       "<p>6 rows × 22 columns</p>\n",
       "</div>"
      ],
      "text/plain": [
       "               storm_names  eff_land_sp  direct  angled  cross  press_mbars  \\\n",
       "cost_category                                                                 \n",
       "catastrophic            17           17      17      17     17           17   \n",
       "high                    19           19      19      19     19           19   \n",
       "low                      6            6       6       6      6            6   \n",
       "minimal                 48           48      48      48     48           48   \n",
       "moderate                 8            8       8       8      8            8   \n",
       "severe                  17           17      17      17     17           17   \n",
       "\n",
       "               max_sust_winds_kts  storm_surge  storm_tide  moon_phase  ...  \\\n",
       "cost_category                                                           ...   \n",
       "catastrophic                   17           17          17          17  ...   \n",
       "high                           19           19          19          19  ...   \n",
       "low                             6            6           6           6  ...   \n",
       "minimal                        48           48          48          48  ...   \n",
       "moderate                        8            8           8           8  ...   \n",
       "severe                         17           17          17          17  ...   \n",
       "\n",
       "               high_ebb  high_tide_line  low_tide_line  norm_cost  \\\n",
       "cost_category                                                       \n",
       "catastrophic         17              17             17         17   \n",
       "high                 19              19             19         19   \n",
       "low                   6               6              6          6   \n",
       "minimal              48              48             48         48   \n",
       "moderate              8               8              8          8   \n",
       "severe               17              17             17         17   \n",
       "\n",
       "               cost_category_num  year  month  day  Max Radii  Point Maxima  \n",
       "cost_category                                                                \n",
       "catastrophic                  17    17     17   17         17            17  \n",
       "high                          19    19     19   19         19            19  \n",
       "low                            6     6      6    6          6             6  \n",
       "minimal                       48    48     48   48         48            48  \n",
       "moderate                       8     8      8    8          8             8  \n",
       "severe                        17    17     17   17         17            17  \n",
       "\n",
       "[6 rows x 22 columns]"
      ]
     },
     "execution_count": 19,
     "metadata": {},
     "output_type": "execute_result"
    }
   ],
   "source": [
    "storm_rl_df.groupby(storm_rl_df[\"cost_category\"]).count()"
   ]
  },
  {
   "cell_type": "code",
   "execution_count": 20,
   "metadata": {},
   "outputs": [
    {
     "data": {
      "image/png": "[encoded data removed]",
      "text/plain": [
       "<Figure size 432x288 with 1 Axes>"
      ]
     },
     "metadata": {
      "needs_background": "light"
     },
     "output_type": "display_data"
    }
   ],
   "source": [
    "ax = sns.countplot(storm_rl_df[\"cost_category\"],label=\"Count\")"
   ]
  },
  {
   "cell_type": "code",
   "execution_count": 21,
   "metadata": {},
   "outputs": [
    {
     "data": {
      "text/plain": [
       "2004    10\n",
       "1998     8\n",
       "2005     8\n",
       "1985     7\n",
       "2002     7\n",
       "2008     6\n",
       "1995     6\n",
       "2017     6\n",
       "1999     5\n",
       "1996     4\n",
       "2006     4\n",
       "2012     4\n",
       "2003     4\n",
       "2001     3\n",
       "2011     3\n",
       "1989     3\n",
       "1992     3\n",
       "1994     3\n",
       "1986     2\n",
       "1991     2\n",
       "2015     2\n",
       "1997     2\n",
       "2000     2\n",
       "2016     2\n",
       "2007     2\n",
       "2010     1\n",
       "2014     1\n",
       "1993     1\n",
       "2013     1\n",
       "1988     1\n",
       "1987     1\n",
       "2009     1\n",
       "Name: year, dtype: int64"
      ]
     },
     "execution_count": 21,
     "metadata": {},
     "output_type": "execute_result"
    }
   ],
   "source": [
    "storm_rl_df['year'].value_counts()"
   ]
  },
  {
   "cell_type": "code",
   "execution_count": 22,
   "metadata": {},
   "outputs": [
    {
     "data": {
      "image/png": "[encoded data removed]",
      "text/plain": [
       "<Figure size 576x504 with 1 Axes>"
      ]
     },
     "metadata": {
      "needs_background": "light"
     },
     "output_type": "display_data"
    }
   ],
   "source": [
    "plt.figure(figsize=(8,7))\n",
    "plt.barh(storm_rl_df['year'].value_counts().sort_index().index[:-1], \n",
    "         storm_rl_df['year'].value_counts().sort_index().values[:-1], color = '#01597f')\n",
    "plt.title('Number of Storm Events by Year', fontsize = 12)\n",
    "plt.yticks(np.arange(1985,2018,1), fontsize = 10)\n",
    "plt.xticks(fontsize = 12);"
   ]
  },
  {
   "cell_type": "code",
   "execution_count": 23,
   "metadata": {},
   "outputs": [
    {
     "data": {
      "image/png": "[encoded data removed]",
      "text/plain": [
       "<Figure size 576x504 with 1 Axes>"
      ]
     },
     "metadata": {
      "needs_background": "light"
     },
     "output_type": "display_data"
    }
   ],
   "source": [
    "plt.figure(figsize=(8,7))\n",
    "plt.bar(storm_rl_df['month'].value_counts().sort_index().index[:-1], \n",
    "         storm_rl_df['month'].value_counts().sort_index().values[:-1], color = '#01597f')\n",
    "plt.title('Number of Storm Events by Month', fontsize = 12)\n",
    "plt.xticks(range(1,13),['Jan','Feb','Mar','Apr','May','Jun','Jul','Aug','Sep','Oct','Nov','Dec'],\n",
    "           rotation = 45, fontsize = 12)\n",
    "plt.yticks(fontsize = 12);"
   ]
  },
  {
   "cell_type": "code",
   "execution_count": 24,
   "metadata": {},
   "outputs": [],
   "source": [
    "coordinates = pd.read_csv(\"../data/storm_main.csv\")"
   ]
  },
  {
   "cell_type": "code",
   "execution_count": 25,
   "metadata": {},
   "outputs": [
    {
     "name": "stdout",
     "output_type": "stream",
     "text": [
      "<class 'pandas.core.frame.DataFrame'>\n",
      "RangeIndex: 115 entries, 0 to 114\n",
      "Data columns (total 7 columns):\n",
      "storm_names    115 non-null object\n",
      "year           115 non-null int64\n",
      "month          115 non-null int64\n",
      "day            115 non-null int64\n",
      "lat_n          115 non-null float64\n",
      "long_w         115 non-null float64\n",
      "norm_cost      115 non-null float64\n",
      "dtypes: float64(3), int64(3), object(1)\n",
      "memory usage: 6.4+ KB\n"
     ]
    }
   ],
   "source": [
    "coordinates = coordinates.drop(columns={'time', 'zone', 'max_winds_kts', 'SS', 'pre_lat', 'pre_long', 'sub_lat',\n",
    "       'sub_long', 'dir', 'sp1', 'sp2', 'frame', 'hours', 'eff_wind_sp',\n",
    "       'angle_binary', 'direct', 'angled', 'cross', 'press_mbars',\n",
    "       'max_sust_winds_kts', 'width_storm', 'storm_surge', 'storm_tide',\n",
    "       'moon_phase', 'tide_phase', 'low_neap', 'high_neap', 'high_ebb',\n",
    "       'high_tide_line', 'low_tide_line', 'rate_rainfall', 'total_rainfall',\n",
    "       'deaths', 'states_affected', 'damage_unadj', 'col_index',\n",
    "       'infaltion_adj'})\n",
    "coordinates[\"norm_cost\"] = storm_rl_df[\"norm_cost\"]\n",
    "coordinates.info()"
   ]
  },
  {
   "cell_type": "code",
   "execution_count": 26,
   "metadata": {
    "scrolled": false
   },
   "outputs": [
    {
     "data": {
      "text/html": [
       "<iframe id=\"igraph\" scrolling=\"no\" style=\"border:none;\" seamless=\"seamless\" src=\"https://plot.ly/~neelrast/7.embed\" height=\"525px\" width=\"100%\"></iframe>"
      ],
      "text/plain": [
       "<chart_studio.tools.PlotlyDisplay object>"
      ]
     },
     "execution_count": 26,
     "metadata": {},
     "output_type": "execute_result"
    }
   ],
   "source": [
    "coordinates['text'] = 'Hurricane ' + coordinates['storm_names'] + '<br>Occured on ' + coordinates['month'].astype('str') + '/' + coordinates['day'].astype('str') + '/' + coordinates['year'].astype('str') + ' <br>Norm. Damage '  +  coordinates['norm_cost'].map('${:,}'.format).astype('str')\n",
    "\n",
    "scl = [ [0,\"rgb(5, 10, 172)\"],[0.35,\"rgb(40, 60, 190)\"],[0.5,\"rgb(70, 100, 245)\"],\\\n",
    "    [0.6,\"rgb(90, 120, 245)\"],[0.7,\"rgb(106, 137, 247)\"],[1,\"rgb(220, 220, 220)\"] ]\n",
    "\n",
    "data = [go.Scattergeo(\n",
    "        locationmode = 'USA-states',\n",
    "        lon = -1*coordinates['long_w'],\n",
    "        lat = coordinates['lat_n'],\n",
    "        text = coordinates['text'],\n",
    "        mode = 'markers',\n",
    "        marker = dict( \n",
    "            size = 8, \n",
    "            opacity = 0.8,\n",
    "            reversescale = True,\n",
    "            autocolorscale = False,\n",
    "            symbol = 'square',\n",
    "            line = dict(\n",
    "                width=1,\n",
    "                color='rgba(102, 102, 102)'\n",
    "            ),\n",
    "            colorscale = scl,\n",
    "            cmin = 0,\n",
    "            color = coordinates['norm_cost'],\n",
    "            cmax = coordinates['norm_cost'].max(),\n",
    "            colorbar=dict(\n",
    "                title=\"Normalized Damage caused by Storm Events <br> since 1985 till 2018\"\n",
    "            )\n",
    "        ))]\n",
    "\n",
    "layout = dict(\n",
    "        title = 'Coordinates of Storm Events which caused land slides at point of impact.', \n",
    "        geo = dict(\n",
    "            scope='usa',\n",
    "            projection=dict( type='albers usa' ),\n",
    "            showland = True,\n",
    "            landcolor = \"rgb(250, 250, 250)\",\n",
    "            subunitcolor = \"rgb(217, 217, 217)\",\n",
    "            countrycolor = \"rgb(217, 217, 217)\",\n",
    "            countrywidth = 0.5,\n",
    "            subunitwidth = 0.5        \n",
    "        ),\n",
    "    )\n",
    "\n",
    "fig = go.Figure(data=data, layout=layout )\n",
    "py.iplot(fig, filename='storm-events')"
   ]
  },
  {
   "cell_type": "code",
   "execution_count": 27,
   "metadata": {},
   "outputs": [],
   "source": [
    "# X_rl -> features\n",
    "# y_rl -> labels\n",
    "\n",
    "X_rl = storm_rl_df.drop(columns={\"storm_names\",\"year\",\"month\",\"day\",\"norm_cost\",\"cost_category\",\"cost_category_num\"})\n",
    "y_rl = storm_rl_df[\"cost_category_num\"]\n",
    "classes = pd.merge(y_rl, storm_rl_df[\"cost_category\"], left_index=True,  right_index =True)"
   ]
  }
 ],
 "metadata": {
  "hide_input": false,
  "kernelspec": {
   "display_name": "Python 3",
   "language": "python",
   "name": "python3"
  },
  "language_info": {
   "codemirror_mode": {
    "name": "ipython",
    "version": 3
   },
   "file_extension": ".py",
   "mimetype": "text/x-python",
   "name": "python",
   "nbconvert_exporter": "python",
   "pygments_lexer": "ipython3",
   "version": "3.7.3"
  },
  "latex_envs": {
   "LaTeX_envs_menu_present": true,
   "autoclose": false,
   "autocomplete": true,
   "bibliofile": "biblio.bib",
   "cite_by": "apalike",
   "current_citInitial": 1,
   "eqLabelWithNumbers": true,
   "eqNumInitial": 1,
   "hotkeys": {
    "equation": "Ctrl-E",
    "itemize": "Ctrl-I"
   },
   "labels_anchors": false,
   "latex_user_defs": false,
   "report_style_numbering": false,
   "user_envs_cfg": false
  },
  "toc": {
   "base_numbering": 1,
   "nav_menu": {},
   "number_sections": true,
   "sideBar": true,
   "skip_h1_title": false,
   "title_cell": "Table of Contents",
   "title_sidebar": "Contents",
   "toc_cell": false,
   "toc_position": {},
   "toc_section_display": true,
   "toc_window_display": false
  }
 },
 "nbformat": 4,
 "nbformat_minor": 2
}
